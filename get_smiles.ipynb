{
 "cells": [
  {
   "cell_type": "code",
   "execution_count": 3,
   "metadata": {},
   "outputs": [],
   "source": [
    "import pandas as pd\n",
    "from data_preparation import clean_and_filter_smiles_dataset"
   ]
  },
  {
   "cell_type": "code",
   "execution_count": 44,
   "metadata": {},
   "outputs": [],
   "source": [
    "data = pd.read_csv('optimized_smiles.csv')\n",
    "\n",
    "cleaned_data = clean_and_filter_smiles_dataset(data)"
   ]
  },
  {
   "cell_type": "code",
   "execution_count": 6,
   "metadata": {},
   "outputs": [],
   "source": [
    "from qsprpred.models import CrossValAssessor\n",
    "from qsprpred.models.scikit_learn import SklearnModel\n",
    "from qsprpred.models.hyperparam_optimization import GridSearchOptimization\n",
    "from sklearn.ensemble import RandomForestRegressor"
   ]
  },
  {
   "cell_type": "code",
   "execution_count": 11,
   "metadata": {},
   "outputs": [],
   "source": [
    "model = SklearnModel(\n",
    "    name=\"A2AR_ForestRegressor_hack_data_extended_with_submits\",\n",
    "    base_dir='regression_model'\n",
    ")"
   ]
  },
  {
   "cell_type": "code",
   "execution_count": 20,
   "metadata": {},
   "outputs": [],
   "source": [
    "mol = [\n",
    "    \"CC(=O)OC1C(C)OC(Oc2c(-c3ccc(O)cc3)oc3c(CC=C(C)C)c(O)cc(O)c3c2=O)C(O)C1O\",\n",
    "    \"COc1cc(C2Oc3cc(-c4oc5cc(OS(=O)(=O)O)cc(O)c5c(=O)c4O)ccc3OC2CO)ccc1O\",\n",
    "    \"COc1cc(C2C(C(=O)Nc3ccc(O)cc3C(=O)O)C(=Cc3ccc(OC(=O)Nc4ccc(O)cc4)c(OC)c3)C(=O)N2c2ccc(O)cc2C(=O)O)ccc1O\",\n",
    "    \"COC(=O)C1OC(Oc2ccc(C3Oc4cc(C5Oc6cc(O)cc(O)c6C(=O)C5O)ccc4OC3CO)cc2OC)C(OC(C)=O)C(OC(C)=O)C1OC\",\n",
    "    \"O=C(c1cc(O)c(O)c(O)c1)c1cc(O)c(O)cc1-c1c(O)cc(O)c(-c2c(O)cc(O)cc2O)c1Oc1c(O)cc(O)cc1Oc1c(O)cc(O)cc1O\",\n",
    "    \"CC(Oc1cc(O)c(C(=O)O)c(Oc2c(O)cc(O)c3c2Oc2c(O)cc(Oc4c(O)cc(Oc5c(O)cc(O)c6c5Oc5c(O)cc(O)cc5O6)cc4O)cc2O3)c1)=C(O)C=CC(=O)O\",\n",
    "    \"CC(Oc1c(O)cc(Oc2c(O)cc(O)c3c2Oc2c(O)cc(O)c(-c4c(O)cc(O)c5c4Oc4c(O)cc(O)c(Oc6cc(O)cc(O)c6)c4O5)c2O3)c(O)c1O)OC(CO)C(O)CO\"\n",
    "]"
   ]
  },
  {
   "cell_type": "code",
   "execution_count": 45,
   "metadata": {},
   "outputs": [],
   "source": [
    "preds = model.predictMols(cleaned_data['SMILES'].to_list(), use_probas=False, n_jobs=15).flatten().tolist()\n",
    "cleaned_data['PDSC_preds'] = preds"
   ]
  },
  {
   "cell_type": "code",
   "execution_count": 48,
   "metadata": {},
   "outputs": [],
   "source": [
    "cleaned_data.sort_values(by='PDSC_preds').tail(10)[\"SMILES\"].to_csv('generated_moleculas.csv', index=False)"
   ]
  },
  {
   "cell_type": "code",
   "execution_count": 47,
   "metadata": {},
   "outputs": [
    {
     "data": {
      "text/html": [
       "<div>\n",
       "<style scoped>\n",
       "    .dataframe tbody tr th:only-of-type {\n",
       "        vertical-align: middle;\n",
       "    }\n",
       "\n",
       "    .dataframe tbody tr th {\n",
       "        vertical-align: top;\n",
       "    }\n",
       "\n",
       "    .dataframe thead th {\n",
       "        text-align: right;\n",
       "    }\n",
       "</style>\n",
       "<table border=\"1\" class=\"dataframe\">\n",
       "  <thead>\n",
       "    <tr style=\"text-align: right;\">\n",
       "      <th></th>\n",
       "      <th>SMILES</th>\n",
       "      <th>PDSC_preds</th>\n",
       "      <th>O_count</th>\n",
       "    </tr>\n",
       "  </thead>\n",
       "  <tbody>\n",
       "    <tr>\n",
       "      <th>2</th>\n",
       "      <td>CCCCCOC(=O)C1N(c2ccccc2OC)C(=O)CC12NCC1NCC(C(=...</td>\n",
       "      <td>75.937164</td>\n",
       "      <td>8</td>\n",
       "    </tr>\n",
       "    <tr>\n",
       "      <th>83</th>\n",
       "      <td>CCCCCOC(=O)COc1c(O)c(C(=O)O)c(OC)c(OC)c1OC</td>\n",
       "      <td>76.495486</td>\n",
       "      <td>9</td>\n",
       "    </tr>\n",
       "    <tr>\n",
       "      <th>33</th>\n",
       "      <td>CCCCCCOc1c(O)ccc2c(=O)c(-c3ccc(OC(=O)COC(=O)CC...</td>\n",
       "      <td>79.908384</td>\n",
       "      <td>9</td>\n",
       "    </tr>\n",
       "    <tr>\n",
       "      <th>40</th>\n",
       "      <td>CCCCCOC(=O)C1(CCOc2ccccc2)NC2C(=O)N(c3ccc(OC)c...</td>\n",
       "      <td>82.967418</td>\n",
       "      <td>8</td>\n",
       "    </tr>\n",
       "    <tr>\n",
       "      <th>69</th>\n",
       "      <td>CCCCCCOC(=O)C1=CN(c2ccccc2OC)C=C(CC)C1c1ccc(O)...</td>\n",
       "      <td>88.204441</td>\n",
       "      <td>6</td>\n",
       "    </tr>\n",
       "    <tr>\n",
       "      <th>3</th>\n",
       "      <td>CCCCCCCC(=O)NC(Cc1c(O)c(OC)c2oc3c(c(=O)c2c1OC)...</td>\n",
       "      <td>93.961906</td>\n",
       "      <td>8</td>\n",
       "    </tr>\n",
       "    <tr>\n",
       "      <th>85</th>\n",
       "      <td>CCCCCOC(=O)CCc1c(O)c(OC)c2oc3c(c(=O)c2c1OC)C(=...</td>\n",
       "      <td>94.524608</td>\n",
       "      <td>9</td>\n",
       "    </tr>\n",
       "    <tr>\n",
       "      <th>58</th>\n",
       "      <td>CCCCCOC(=O)C(Cc1c(O)c(OC)c2oc3c(c(=O)c2c1OC)C(...</td>\n",
       "      <td>99.381259</td>\n",
       "      <td>10</td>\n",
       "    </tr>\n",
       "    <tr>\n",
       "      <th>8</th>\n",
       "      <td>CCCCCOC(=O)C(Cc1c(O)c(OC)c2oc3c(c(=O)c2c1OC)C=...</td>\n",
       "      <td>100.406984</td>\n",
       "      <td>8</td>\n",
       "    </tr>\n",
       "    <tr>\n",
       "      <th>12</th>\n",
       "      <td>CCCCCOC(=O)C(C=O)Cc1c(O)c(OC)c2oc(-c3ccc(O)c(O...</td>\n",
       "      <td>104.601079</td>\n",
       "      <td>10</td>\n",
       "    </tr>\n",
       "  </tbody>\n",
       "</table>\n",
       "</div>"
      ],
      "text/plain": [
       "                                               SMILES  PDSC_preds  O_count\n",
       "2   CCCCCOC(=O)C1N(c2ccccc2OC)C(=O)CC12NCC1NCC(C(=...   75.937164        8\n",
       "83         CCCCCOC(=O)COc1c(O)c(C(=O)O)c(OC)c(OC)c1OC   76.495486        9\n",
       "33  CCCCCCOc1c(O)ccc2c(=O)c(-c3ccc(OC(=O)COC(=O)CC...   79.908384        9\n",
       "40  CCCCCOC(=O)C1(CCOc2ccccc2)NC2C(=O)N(c3ccc(OC)c...   82.967418        8\n",
       "69  CCCCCCOC(=O)C1=CN(c2ccccc2OC)C=C(CC)C1c1ccc(O)...   88.204441        6\n",
       "3   CCCCCCCC(=O)NC(Cc1c(O)c(OC)c2oc3c(c(=O)c2c1OC)...   93.961906        8\n",
       "85  CCCCCOC(=O)CCc1c(O)c(OC)c2oc3c(c(=O)c2c1OC)C(=...   94.524608        9\n",
       "58  CCCCCOC(=O)C(Cc1c(O)c(OC)c2oc3c(c(=O)c2c1OC)C(...   99.381259       10\n",
       "8   CCCCCOC(=O)C(Cc1c(O)c(OC)c2oc3c(c(=O)c2c1OC)C=...  100.406984        8\n",
       "12  CCCCCOC(=O)C(C=O)Cc1c(O)c(OC)c2oc(-c3ccc(O)c(O...  104.601079       10"
      ]
     },
     "execution_count": 47,
     "metadata": {},
     "output_type": "execute_result"
    }
   ],
   "source": [
    "cleaned_data.sort_values(by='PDSC_preds').tail(10)"
   ]
  },
  {
   "cell_type": "code",
   "execution_count": null,
   "metadata": {},
   "outputs": [],
   "source": []
  }
 ],
 "metadata": {
  "kernelspec": {
   "display_name": "Python 3",
   "language": "python",
   "name": "python3"
  },
  "language_info": {
   "codemirror_mode": {
    "name": "ipython",
    "version": 3
   },
   "file_extension": ".py",
   "mimetype": "text/x-python",
   "name": "python",
   "nbconvert_exporter": "python",
   "pygments_lexer": "ipython3",
   "version": "3.11.11"
  }
 },
 "nbformat": 4,
 "nbformat_minor": 2
}
